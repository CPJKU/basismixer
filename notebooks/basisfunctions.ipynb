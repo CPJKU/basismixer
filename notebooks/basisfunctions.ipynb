{
 "cells": [
  {
   "cell_type": "markdown",
   "metadata": {},
   "source": [
    "# Defining basis functions\n",
    "\n",
    "In this notebook we will define some basis functions, functions that take a score as input, and return an array where each row corresponds to a note in the score, and each column corresponds to some descriptor.\n",
    "\n",
    "We start by calling `init()` from the `data` module. This ensures we have a local copy of the vienna4x22 corpus."
   ]
  },
  {
   "cell_type": "code",
   "execution_count": null,
   "metadata": {
    "scrolled": true
   },
   "outputs": [],
   "source": [
    "%matplotlib notebook\n",
    "import data\n",
    "data.init() # download the corpus if necessary; set some variables"
   ]
  },
  {
   "cell_type": "markdown",
   "metadata": {},
   "source": [
    "After the data has been downloaded `init()` sets a couple of global variables that make it easier to access the data. For now we want just a  MusicXML file from the corpus so we can define a basis function and test it on the file. `data.SCORE_PERFORMANCE_PAIRS` holds a list of MusicXML/Match filename pairs, so let's grab the first pair:"
   ]
  },
  {
   "cell_type": "code",
   "execution_count": null,
   "metadata": {},
   "outputs": [],
   "source": [
    "xml_fn, match_fn = data.SCORE_PERFORMANCE_PAIRS[0]\n",
    "print(xml_fn)"
   ]
  },
  {
   "cell_type": "markdown",
   "metadata": {},
   "source": [
    "It's Chopin's Etude Opus 10 number 3. Let's load the score into Python using the `partitura` package:"
   ]
  },
  {
   "cell_type": "code",
   "execution_count": null,
   "metadata": {},
   "outputs": [],
   "source": [
    "import partitura\n",
    "\n",
    "part = partitura.load_musicxml(xml_fn)"
   ]
  },
  {
   "cell_type": "code",
   "execution_count": null,
   "metadata": {},
   "outputs": [],
   "source": [
    "import basismixer.basisfunctions as bf"
   ]
  },
  {
   "cell_type": "code",
   "execution_count": null,
   "metadata": {},
   "outputs": [],
   "source": [
    "import numpy as np\n",
    "\n",
    "def accent_basis(part):\n",
    "    notes = part.notes_tied\n",
    "    W = np.zeros(len(notes))\n",
    "    for i, n in enumerate(notes):\n",
    "        if 'accent' in n.articulations:\n",
    "            W[i] = 1\n",
    "    return W, ['accent']\n",
    "\n",
    "B, names = bf.make_basis(part, [accent_basis])"
   ]
  }
 ],
 "metadata": {
  "kernelspec": {
   "display_name": "Python 3",
   "language": "python",
   "name": "python3"
  },
  "language_info": {
   "codemirror_mode": {
    "name": "ipython",
    "version": 3
   },
   "file_extension": ".py",
   "mimetype": "text/x-python",
   "name": "python",
   "nbconvert_exporter": "python",
   "pygments_lexer": "ipython3",
   "version": "3.7.3"
  }
 },
 "nbformat": 4,
 "nbformat_minor": 2
}
