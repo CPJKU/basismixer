{
 "cells": [
  {
   "cell_type": "markdown",
   "metadata": {},
   "source": [
    "# Expressive Parameters in the Vienna4x22 Dataset\n",
    "\n",
    "In this notebook we will take a look at the [Vienna4x22  Dataset](https://repo.mdw.ac.at/projects/IWK/the_vienna_4x22_piano_corpus).\n",
    "\n",
    "*Short description of the dataset*\n",
    "\n",
    "We start by inspecting the expressive aspects of the performances in the dataset, using the function `performance_player`."
   ]
  },
  {
   "cell_type": "code",
   "execution_count": null,
   "metadata": {
    "scrolled": false
   },
   "outputs": [],
   "source": [
    "%matplotlib notebook\n",
    "from visualization import performance_player"
   ]
  },
  {
   "cell_type": "markdown",
   "metadata": {},
   "source": [
    "The function `performance_player` plots the expressive targets computed from the alignment between a score and a performance from the dataset. It shows some widgets that let you select the piece and performer.\n",
    "\n",
    "When you select a region of the performance by dragging on the plot the region will be marked in gray and played."
   ]
  },
  {
   "cell_type": "code",
   "execution_count": null,
   "metadata": {
    "scrolled": false
   },
   "outputs": [],
   "source": [
    "performance_player()"
   ]
  }
 ],
 "metadata": {
  "kernelspec": {
   "display_name": "Python 3",
   "language": "python",
   "name": "python3"
  },
  "language_info": {
   "codemirror_mode": {
    "name": "ipython",
    "version": 3
   },
   "file_extension": ".py",
   "mimetype": "text/x-python",
   "name": "python",
   "nbconvert_exporter": "python",
   "pygments_lexer": "ipython3",
   "version": "3.7.3"
  }
 },
 "nbformat": 4,
 "nbformat_minor": 2
}
